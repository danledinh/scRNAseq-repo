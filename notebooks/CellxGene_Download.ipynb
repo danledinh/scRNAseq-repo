{
 "cells": [
  {
   "cell_type": "markdown",
   "id": "20afd20f-0ef1-48f3-bfdf-f5d2b03844b5",
   "metadata": {},
   "source": [
    "# Download CellxGene AnnData Objects\n",
    "\n",
    "This notebook loads the relevant CellxGene AnnData Objects and writes them into a user defined directory. Currently, it will create a /results/ directory in the home directory of the git repo and place them within the /anndata_objects directory inside this folder. Some of the other analysis notebooks will point to this directory for anndata objects, so make sure to run this notebook prior to those. These notebooks will specificy if they can be run with this data or if they serve as an example of what analyses were performed.\n",
    "\n",
    "The CellxGene collection ID is: **398e34a9-8736-4b27-a9a7-31a47a67f446** . All data is stored with CellxGene at: https://cellxgene.cziscience.com/collections/398e34a9-8736-4b27-a9a7-31a47a67f446\n",
    "\n",
    "This notebook was adapted from the ChanZuckerberg Docs: https://github.com/chanzuckerberg/single-cell-curation/blob/main/notebooks/curation_api/python_raw/get_dataset.ipynb"
   ]
  },
  {
   "cell_type": "code",
   "execution_count": 16,
   "id": "534e16e8-9da4-4ad1-b8a8-d2514e25b03f",
   "metadata": {
    "tags": []
   },
   "outputs": [],
   "source": [
    "import requests\n",
    "import os"
   ]
  },
  {
   "cell_type": "code",
   "execution_count": 17,
   "id": "7a0497b9-aea8-43c9-9738-469db8660b11",
   "metadata": {
    "tags": []
   },
   "outputs": [],
   "source": [
    "##USER Defined Anndata Object Directory\n",
    "##Keep this if you want to use immediately with other notebooks\n",
    "ANNDATA_OBJECT_DIR='../results/anndata_objects'"
   ]
  },
  {
   "cell_type": "code",
   "execution_count": 18,
   "id": "7af8a419-3155-45a0-885b-30d0c256e35e",
   "metadata": {
    "tags": []
   },
   "outputs": [],
   "source": [
    "##Define domain names for cellxgene\n",
    "domain_name = \"cellxgene.cziscience.com\"\n",
    "site_url = f\"https://{domain_name}\"\n",
    "api_url_base = f\"https://api.{domain_name}\"\n",
    "\n",
    "##Define specific collection ID for this study\n",
    "collection_id = \"398e34a9-8736-4b27-a9a7-31a47a67f446\"\n",
    "\n",
    "##Fetch collection\n",
    "collection_path = f\"/curation/v1/collections/{collection_id}\"\n",
    "collection_url = f\"{api_url_base}{collection_path}\"\n",
    "res = requests.get(url=collection_url)\n",
    "res.raise_for_status()\n",
    "res_content = res.json()"
   ]
  },
  {
   "cell_type": "code",
   "execution_count": 19,
   "id": "e1f43cad-885b-450b-aea6-c26d0272ec6b",
   "metadata": {
    "tags": []
   },
   "outputs": [
    {
     "name": "stdout",
     "output_type": "stream",
     "text": [
      "\n",
      "Downloading Honeycomb-rep2 to ../results/anndata_objects/Honeycomb-rep2_annotated.h5ad ... \n",
      "\u001b[1m\u001b[38;5;10m100.0% downloaded\u001b[0m\n",
      "\n",
      "Done downloading assets\n",
      "\n",
      "Downloading 10X_FRP-rep1 to ../results/anndata_objects/10X_FRP-rep1_annotated.h5ad ... \n",
      "\u001b[1m\u001b[38;5;10m100.0% downloaded\u001b[0m\n",
      "\n",
      "Done downloading assets\n",
      "\n",
      "Downloading 10X_3-rep1 to ../results/anndata_objects/10X_3-rep1_annotated.h5ad ... \n",
      "\u001b[1m\u001b[38;5;10m100.0% downloaded\u001b[0m\n",
      "\n",
      "Done downloading assets\n",
      "\n",
      "Downloading BD-rep1 to ../results/anndata_objects/BD-rep1_annotated.h5ad ... \n",
      "\u001b[1m\u001b[38;5;10m100.0% downloaded\u001b[0m\n",
      "\n",
      "Done downloading assets\n",
      "\n",
      "Downloading harmony_integrated_data to ../results/anndata_objects/harmony_integrated_data_annotated.h5ad ... \n",
      "\u001b[1m\u001b[38;5;10m100.0% downloaded\u001b[0m\n",
      "\n",
      "Done downloading assets\n",
      "\n",
      "Downloading 10X_5-rep2 to ../results/anndata_objects/10X_5-rep2_annotated.h5ad ... \n",
      "\u001b[1m\u001b[38;5;10m100.0% downloaded\u001b[0m\n",
      "\n",
      "Done downloading assets\n",
      "\n",
      "Downloading 10X_3-rep2 to ../results/anndata_objects/10X_3-rep2_annotated.h5ad ... \n",
      "\u001b[1m\u001b[38;5;10m100.0% downloaded\u001b[0m\n",
      "\n",
      "Done downloading assets\n",
      "\n",
      "Downloading Honeycomb-rep1 to ../results/anndata_objects/Honeycomb-rep1_annotated.h5ad ... \n",
      "\u001b[1m\u001b[38;5;10m100.0% downloaded\u001b[0m\n",
      "\n",
      "Done downloading assets\n",
      "\n",
      "Downloading Scipio-rep2 to ../results/anndata_objects/Scipio-rep2_annotated.h5ad ... \n",
      "\u001b[1m\u001b[38;5;10m100.0% downloaded\u001b[0m\n",
      "\n",
      "Done downloading assets\n",
      "\n",
      "Downloading BD-rep2 to ../results/anndata_objects/BD-rep2_annotated.h5ad ... \n",
      "\u001b[1m\u001b[38;5;10m100.0% downloaded\u001b[0m\n",
      "\n",
      "Done downloading assets\n",
      "\n",
      "Downloading 10X_FRP-rep2 to ../results/anndata_objects/10X_FRP-rep2_annotated.h5ad ... \n",
      "\u001b[1m\u001b[38;5;10m100.0% downloaded\u001b[0m\n",
      "\n",
      "Done downloading assets\n",
      "\n",
      "Downloading Fluent-rep1 to ../results/anndata_objects/Fluent-rep1_annotated.h5ad ... \n",
      "\u001b[1m\u001b[38;5;10m100.0% downloaded\u001b[0m\n",
      "\n",
      "Done downloading assets\n",
      "\n",
      "Downloading Parse-rep1 to ../results/anndata_objects/Parse-rep1_annotated.h5ad ... \n",
      "\u001b[1m\u001b[38;5;10m100.0% downloaded\u001b[0m\n",
      "\n",
      "Done downloading assets\n",
      "\n",
      "Downloading Scale-rep1 to ../results/anndata_objects/Scale-rep1_annotated.h5ad ... \n",
      "\u001b[1m\u001b[38;5;10m100.0% downloaded\u001b[0m\n",
      "\n",
      "Done downloading assets\n",
      "\n",
      "Downloading Fluent-rep3 to ../results/anndata_objects/Fluent-rep3_annotated.h5ad ... \n",
      "\u001b[1m\u001b[38;5;10m100.0% downloaded\u001b[0m\n",
      "\n",
      "Done downloading assets\n",
      "\n",
      "Downloading Scipio-rep1 to ../results/anndata_objects/Scipio-rep1_annotated.h5ad ... \n",
      "\u001b[1m\u001b[38;5;10m100.0% downloaded\u001b[0m\n",
      "\n",
      "Done downloading assets\n",
      "\n",
      "Downloading 10X_5-rep1 to ../results/anndata_objects/10X_5-rep1_annotated.h5ad ... \n",
      "\u001b[1m\u001b[38;5;10m100.0% downloaded\u001b[0m\n",
      "\n",
      "Done downloading assets\n",
      "\n",
      "Downloading Fluent-rep2 to ../results/anndata_objects/Fluent-rep2_annotated.h5ad ... \n",
      "\u001b[1m\u001b[38;5;10m100.0% downloaded\u001b[0m\n",
      "\n",
      "Done downloading assets\n"
     ]
    }
   ],
   "source": [
    "kits_downloaded = []\n",
    "for dataset in res_content['datasets']:\n",
    "    assets = dataset[\"assets\"]\n",
    "    dataset_id = dataset[\"dataset_id\"]\n",
    "    kit_name = dataset['title']\n",
    "    kits_downloaded.append(kit_name)\n",
    "    for asset in assets:\n",
    "        if asset['filetype'] == 'H5AD':\n",
    "            download_filename = os.path.join(ANNDATA_OBJECT_DIR, f'{kit_name}_annotated.h5ad')\n",
    "            print(f\"\\nDownloading {kit_name} to {download_filename} ... \")\n",
    "            with requests.get(asset[\"url\"], stream=True) as res:\n",
    "                res.raise_for_status()\n",
    "                filesize = int(res.headers[\"Content-Length\"])\n",
    "                with open(download_filename, \"wb\") as df:\n",
    "                    total_bytes_received = 0\n",
    "                    for chunk in res.iter_content(chunk_size=1024 * 1024):\n",
    "                        df.write(chunk)\n",
    "                        total_bytes_received += len(chunk)\n",
    "                        percent_of_total_upload = float(\"{:.1f}\".format(total_bytes_received / filesize * 100))\n",
    "                        color = \"\\033[38;5;10m\" if percent_of_total_upload == 100 else \"\"\n",
    "                        print(f\"\\033[1m{color}{percent_of_total_upload}% downloaded\\033[0m\\r\", end=\"\")\n",
    "    print(\"\\n\\nDone downloading assets\")"
   ]
  },
  {
   "cell_type": "code",
   "execution_count": 20,
   "id": "8d0251a4-e32a-49da-9869-06cd45490720",
   "metadata": {
    "tags": []
   },
   "outputs": [
    {
     "name": "stdout",
     "output_type": "stream",
     "text": [
      "Downloaded Kit Data: ['10X_3-rep1', '10X_3-rep2', '10X_5-rep1', '10X_5-rep2', '10X_FRP-rep1', '10X_FRP-rep2', 'BD-rep1', 'BD-rep2', 'Fluent-rep1', 'Fluent-rep2', 'Fluent-rep3', 'Honeycomb-rep1', 'Honeycomb-rep2', 'Parse-rep1', 'Scale-rep1', 'Scipio-rep1', 'Scipio-rep2', 'harmony_integrated_data']\n"
     ]
    }
   ],
   "source": [
    "kits_downloaded = sorted(kits_downloaded)\n",
    "print(f'Downloaded Kit Data: {kits_downloaded}')"
   ]
  }
 ],
 "metadata": {
  "kernelspec": {
   "display_name": "Scanpy (Mamba)",
   "language": "python",
   "name": "scanpy-default-mamba"
  },
  "language_info": {
   "codemirror_mode": {
    "name": "ipython",
    "version": 3
   },
   "file_extension": ".py",
   "mimetype": "text/x-python",
   "name": "python",
   "nbconvert_exporter": "python",
   "pygments_lexer": "ipython3",
   "version": "3.10.8"
  }
 },
 "nbformat": 4,
 "nbformat_minor": 5
}
